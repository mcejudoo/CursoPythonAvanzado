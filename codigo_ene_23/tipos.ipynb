{
 "cells": [
  {
   "cell_type": "markdown",
   "id": "0d051ad0",
   "metadata": {},
   "source": [
    "### "
   ]
  },
  {
   "cell_type": "markdown",
   "id": "8320273e",
   "metadata": {},
   "source": [
    "## Resumen de tipos de Python: mutables / inmutables"
   ]
  },
  {
   "cell_type": "code",
   "execution_count": 1,
   "id": "67f9bec8",
   "metadata": {},
   "outputs": [
    {
     "data": {
      "text/plain": [
       "[0, 1, 2, 3, 4, 5, 6, 7, 8, 9]"
      ]
     },
     "execution_count": 1,
     "metadata": {},
     "output_type": "execute_result"
    }
   ],
   "source": [
    "L = list(range(10))\n",
    "L"
   ]
  },
  {
   "cell_type": "code",
   "execution_count": 3,
   "id": "ef39296f",
   "metadata": {},
   "outputs": [
    {
     "name": "stdout",
     "output_type": "stream",
     "text": [
      "L [1000, 1, 2, 3, 4, 5, 6, 7, 8, 9] 2404612228416\n",
      "L2 [1000, 1, 2, 3, 4, 5, 6, 7, 8, 9] 2404612228416\n"
     ]
    }
   ],
   "source": [
    "L2 = L\n",
    "L[0] = 1000\n",
    "print('L', L, id(L))\n",
    "print('L2',L2, id(L2))"
   ]
  },
  {
   "cell_type": "code",
   "execution_count": 4,
   "id": "47a5e803",
   "metadata": {},
   "outputs": [
    {
     "name": "stdout",
     "output_type": "stream",
     "text": [
      "L [1000, 1, 2, 3, 4, 5, 6, 7, 8, 9] 2404612319808\n",
      "L2 [0, 1, 2, 3, 4, 5, 6, 7, 8, 9] 2404612007744\n"
     ]
    }
   ],
   "source": [
    "# Funciona si los elementos de la lista son inmutables\n",
    "L = list(range(10))\n",
    "L2 = L.copy()\n",
    "L[0] = 1000\n",
    "print('L', L, id(L))\n",
    "print('L2',L2, id(L2))"
   ]
  },
  {
   "cell_type": "code",
   "execution_count": 5,
   "id": "d575bb08",
   "metadata": {},
   "outputs": [
    {
     "name": "stdout",
     "output_type": "stream",
     "text": [
      "L [1000, [3, 4], [5, 6, 1000]] 2404611977984\n",
      "L2 [[1, 2], [3, 4], [5, 6, 1000]] 2404611139328\n"
     ]
    }
   ],
   "source": [
    "L = [[1,2],[3,4],[5,6]]\n",
    "L2 = L.copy()\n",
    "L[0] = 1000\n",
    "L[-1].append(1000)\n",
    "print('L', L, id(L))\n",
    "print('L2',L2, id(L2))"
   ]
  },
  {
   "cell_type": "markdown",
   "id": "1a430301",
   "metadata": {},
   "source": [
    "Mismo comportamiento para list, set y dict"
   ]
  },
  {
   "cell_type": "code",
   "execution_count": 6,
   "id": "6d467f7b",
   "metadata": {},
   "outputs": [
    {
     "name": "stdout",
     "output_type": "stream",
     "text": [
      "L [1000, [3, 4], [5, 6, 1000]] 2404611822592\n",
      "L2 [[1, 2], [3, 4], [5, 6]] 2404611809088\n"
     ]
    }
   ],
   "source": [
    "from copy import deepcopy\n",
    "L = [[1,2],[3,4],[5,6]]\n",
    "L2 = deepcopy(L)\n",
    "L[0] = 1000\n",
    "L[-1].append(1000)\n",
    "print('L', L, id(L))\n",
    "print('L2',L2, id(L2))"
   ]
  },
  {
   "cell_type": "code",
   "execution_count": null,
   "id": "62ef3348",
   "metadata": {},
   "outputs": [],
   "source": []
  }
 ],
 "metadata": {
  "kernelspec": {
   "display_name": "Python 3 (ipykernel)",
   "language": "python",
   "name": "python3"
  },
  "language_info": {
   "codemirror_mode": {
    "name": "ipython",
    "version": 3
   },
   "file_extension": ".py",
   "mimetype": "text/x-python",
   "name": "python",
   "nbconvert_exporter": "python",
   "pygments_lexer": "ipython3",
   "version": "3.8.5"
  }
 },
 "nbformat": 4,
 "nbformat_minor": 5
}

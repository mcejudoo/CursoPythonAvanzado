{
 "cells": [
  {
   "cell_type": "markdown",
   "id": "6a7f9243",
   "metadata": {},
   "source": [
    "## Pruebas con numpy"
   ]
  },
  {
   "cell_type": "code",
   "execution_count": 1,
   "id": "a662e9e3",
   "metadata": {},
   "outputs": [],
   "source": [
    "import numpy as np"
   ]
  },
  {
   "cell_type": "code",
   "execution_count": 2,
   "id": "e16b4c9c",
   "metadata": {},
   "outputs": [],
   "source": [
    "n = 1000000"
   ]
  },
  {
   "cell_type": "code",
   "execution_count": 6,
   "id": "066d05e5",
   "metadata": {},
   "outputs": [
    {
     "data": {
      "text/plain": [
       "numpy.ndarray"
      ]
     },
     "execution_count": 6,
     "metadata": {},
     "output_type": "execute_result"
    }
   ],
   "source": [
    "arr = np.arange(n)\n",
    "type(arr)"
   ]
  },
  {
   "cell_type": "code",
   "execution_count": 7,
   "id": "8a70d404",
   "metadata": {},
   "outputs": [
    {
     "data": {
      "text/plain": [
       "list"
      ]
     },
     "execution_count": 7,
     "metadata": {},
     "output_type": "execute_result"
    }
   ],
   "source": [
    "arr2 = list(range(n))\n",
    "type(arr2)"
   ]
  },
  {
   "cell_type": "code",
   "execution_count": 9,
   "id": "77cd473d",
   "metadata": {},
   "outputs": [
    {
     "name": "stdout",
     "output_type": "stream",
     "text": [
      "12.1 ms ± 387 µs per loop (mean ± std. dev. of 7 runs, 100 loops each)\n"
     ]
    }
   ],
   "source": [
    "%%timeit\n",
    "for _ in range(10): arr_ = arr * 2"
   ]
  },
  {
   "cell_type": "code",
   "execution_count": 10,
   "id": "47984e5b",
   "metadata": {},
   "outputs": [
    {
     "name": "stdout",
     "output_type": "stream",
     "text": [
      "589 ms ± 15.5 ms per loop (mean ± std. dev. of 7 runs, 1 loop each)\n"
     ]
    }
   ],
   "source": [
    "%%timeit\n",
    "for _ in range(10): arr2_ = [i * 2 for i in arr2]"
   ]
  },
  {
   "cell_type": "code",
   "execution_count": 11,
   "id": "665305d0",
   "metadata": {},
   "outputs": [
    {
     "data": {
      "text/plain": [
       "array([1, 4, 5, 6, 7])"
      ]
     },
     "execution_count": 11,
     "metadata": {},
     "output_type": "execute_result"
    }
   ],
   "source": [
    "arr_i = np.array([1,4,5,6,7])\n",
    "arr_i"
   ]
  },
  {
   "cell_type": "code",
   "execution_count": 12,
   "id": "812b11f7",
   "metadata": {},
   "outputs": [
    {
     "data": {
      "text/plain": [
       "array([1. , 4. , 5.5, 6. , 7. ])"
      ]
     },
     "execution_count": 12,
     "metadata": {},
     "output_type": "execute_result"
    }
   ],
   "source": [
    "arr_f = np.array([1,4,5.5,6,7])\n",
    "arr_f"
   ]
  },
  {
   "cell_type": "code",
   "execution_count": 13,
   "id": "66ddb6c3",
   "metadata": {},
   "outputs": [
    {
     "data": {
      "text/plain": [
       "dtype('float64')"
      ]
     },
     "execution_count": 13,
     "metadata": {},
     "output_type": "execute_result"
    }
   ],
   "source": [
    "arr_f.dtype"
   ]
  },
  {
   "cell_type": "code",
   "execution_count": 16,
   "id": "d7e37a46",
   "metadata": {},
   "outputs": [
    {
     "data": {
      "text/plain": [
       "array([1. +0.j, 4. +0.j, 5.5+0.j, 6. +0.j, 7. +2.j])"
      ]
     },
     "execution_count": 16,
     "metadata": {},
     "output_type": "execute_result"
    }
   ],
   "source": [
    "arr_c = np.array([1,4,5.5,6,7+2j])\n",
    "arr_c"
   ]
  },
  {
   "cell_type": "code",
   "execution_count": 17,
   "id": "40de086b",
   "metadata": {},
   "outputs": [
    {
     "data": {
      "text/plain": [
       "dtype('complex128')"
      ]
     },
     "execution_count": 17,
     "metadata": {},
     "output_type": "execute_result"
    }
   ],
   "source": [
    "arr_c.dtype"
   ]
  },
  {
   "cell_type": "code",
   "execution_count": 18,
   "id": "ab2fddce",
   "metadata": {},
   "outputs": [
    {
     "data": {
      "text/plain": [
       "(5,)"
      ]
     },
     "execution_count": 18,
     "metadata": {},
     "output_type": "execute_result"
    }
   ],
   "source": [
    "arr_c.shape"
   ]
  },
  {
   "cell_type": "code",
   "execution_count": 19,
   "id": "49acfd2c",
   "metadata": {},
   "outputs": [
    {
     "data": {
      "text/plain": [
       "array([[ 0,  1,  2,  3,  4],\n",
       "       [ 5,  6,  7,  8,  9],\n",
       "       [10, 11, 12, 13, 14],\n",
       "       [15, 16, 17, 18, 19]])"
      ]
     },
     "execution_count": 19,
     "metadata": {},
     "output_type": "execute_result"
    }
   ],
   "source": [
    "m = np.arange(20).reshape(4,5)\n",
    "m"
   ]
  },
  {
   "cell_type": "code",
   "execution_count": 20,
   "id": "279289cd",
   "metadata": {},
   "outputs": [
    {
     "data": {
      "text/plain": [
       "(4, 5)"
      ]
     },
     "execution_count": 20,
     "metadata": {},
     "output_type": "execute_result"
    }
   ],
   "source": [
    "m.shape"
   ]
  },
  {
   "cell_type": "code",
   "execution_count": 21,
   "id": "5dd6a0f1",
   "metadata": {},
   "outputs": [
    {
     "data": {
      "text/plain": [
       "2"
      ]
     },
     "execution_count": 21,
     "metadata": {},
     "output_type": "execute_result"
    }
   ],
   "source": [
    "m.ndim"
   ]
  },
  {
   "cell_type": "code",
   "execution_count": 22,
   "id": "d6f01e97",
   "metadata": {},
   "outputs": [
    {
     "data": {
      "text/plain": [
       "array([[[ 0,  1,  2,  3,  4],\n",
       "        [ 5,  6,  7,  8,  9],\n",
       "        [10, 11, 12, 13, 14],\n",
       "        [15, 16, 17, 18, 19]],\n",
       "\n",
       "       [[20, 21, 22, 23, 24],\n",
       "        [25, 26, 27, 28, 29],\n",
       "        [30, 31, 32, 33, 34],\n",
       "        [35, 36, 37, 38, 39]],\n",
       "\n",
       "       [[40, 41, 42, 43, 44],\n",
       "        [45, 46, 47, 48, 49],\n",
       "        [50, 51, 52, 53, 54],\n",
       "        [55, 56, 57, 58, 59]]])"
      ]
     },
     "execution_count": 22,
     "metadata": {},
     "output_type": "execute_result"
    }
   ],
   "source": [
    "m = np.arange(60).reshape(3,4,5)\n",
    "m"
   ]
  },
  {
   "cell_type": "code",
   "execution_count": 23,
   "id": "3ed5c9df",
   "metadata": {},
   "outputs": [
    {
     "data": {
      "text/plain": [
       "array([1, 2, 4, 7], dtype=int16)"
      ]
     },
     "execution_count": 23,
     "metadata": {},
     "output_type": "execute_result"
    }
   ],
   "source": [
    "arr = np.array(['1','2','4','7'], dtype=np.int16)\n",
    "arr"
   ]
  },
  {
   "cell_type": "code",
   "execution_count": 24,
   "id": "a4c99b38",
   "metadata": {},
   "outputs": [
    {
     "data": {
      "text/plain": [
       "array([1., 2., 4., 7.], dtype=float32)"
      ]
     },
     "execution_count": 24,
     "metadata": {},
     "output_type": "execute_result"
    }
   ],
   "source": [
    "arr2 = arr.astype(np.float32)\n",
    "arr2"
   ]
  },
  {
   "cell_type": "code",
   "execution_count": 26,
   "id": "83ff9555",
   "metadata": {},
   "outputs": [
    {
     "data": {
      "text/plain": [
       "array([[9.08814617e-310, 9.08813894e-310, 6.95177503e-308,\n",
       "        1.28841650e-301, 4.51644679e+259],\n",
       "       [7.89819104e-305, 9.08814610e-310, 7.89814348e-305,\n",
       "        9.08814645e-310, 9.08780833e-310],\n",
       "       [7.57491783e-307, 1.16968885e+216, 1.58020099e-311,\n",
       "        1.48580779e-198, 5.39948460e-311],\n",
       "       [4.09487469e-306, 1.33360304e+243, 5.67421675e-309,\n",
       "        3.57269797e-261, 1.79209176e-311],\n",
       "       [1.59166660e-306, 1.33360295e+243, 7.84714043e-309,\n",
       "        3.42196482e-208, 4.33848671e-311],\n",
       "       [1.68400738e-017, 1.10811151e-300, 1.74956895e-310,\n",
       "        1.45860545e-301, 2.78138510e-307],\n",
       "       [2.78138476e-307, 1.15646466e-277, 1.85926288e-176,\n",
       "        2.32205015e-099, 1.83971785e-070],\n",
       "       [1.00876644e-301, 1.52177878e-094, 9.97313036e-090,\n",
       "        6.01346930e-152, 7.89508009e-305]])"
      ]
     },
     "execution_count": 26,
     "metadata": {},
     "output_type": "execute_result"
    }
   ],
   "source": [
    "m = np.empty((8,5))\n",
    "m = m * 100\n",
    "m"
   ]
  },
  {
   "cell_type": "code",
   "execution_count": 27,
   "id": "b1adc7e7",
   "metadata": {},
   "outputs": [
    {
     "data": {
      "text/plain": [
       "array([[1., 1., 1., 1., 1.],\n",
       "       [1., 1., 1., 1., 1.],\n",
       "       [1., 1., 1., 1., 1.],\n",
       "       [1., 1., 1., 1., 1.],\n",
       "       [1., 1., 1., 1., 1.],\n",
       "       [1., 1., 1., 1., 1.],\n",
       "       [1., 1., 1., 1., 1.],\n",
       "       [1., 1., 1., 1., 1.]])"
      ]
     },
     "execution_count": 27,
     "metadata": {},
     "output_type": "execute_result"
    }
   ],
   "source": [
    "unos = np.ones_like(m)\n",
    "unos"
   ]
  },
  {
   "cell_type": "code",
   "execution_count": 30,
   "id": "6b92a425",
   "metadata": {},
   "outputs": [
    {
     "data": {
      "text/plain": [
       "array([[1., 0., 0., 0., 0.],\n",
       "       [0., 1., 0., 0., 0.],\n",
       "       [0., 0., 1., 0., 0.],\n",
       "       [0., 0., 0., 1., 0.],\n",
       "       [0., 0., 0., 0., 1.]])"
      ]
     },
     "execution_count": 30,
     "metadata": {},
     "output_type": "execute_result"
    }
   ],
   "source": [
    "m=np.identity(5)\n",
    "m"
   ]
  },
  {
   "cell_type": "code",
   "execution_count": 31,
   "id": "bae7ed72",
   "metadata": {},
   "outputs": [
    {
     "data": {
      "text/plain": [
       "array([[ True, False, False, False, False],\n",
       "       [False,  True, False, False, False],\n",
       "       [False, False,  True, False, False],\n",
       "       [False, False, False,  True, False],\n",
       "       [False, False, False, False,  True]])"
      ]
     },
     "execution_count": 31,
     "metadata": {},
     "output_type": "execute_result"
    }
   ],
   "source": [
    "m > 0"
   ]
  },
  {
   "cell_type": "code",
   "execution_count": 32,
   "id": "a9100e46",
   "metadata": {},
   "outputs": [
    {
     "data": {
      "text/plain": [
       "array([[ 220,  235,  250,  265],\n",
       "       [ 580,  631,  682,  733],\n",
       "       [ 940, 1027, 1114, 1201],\n",
       "       [1300, 1423, 1546, 1669]])"
      ]
     },
     "execution_count": 32,
     "metadata": {},
     "output_type": "execute_result"
    }
   ],
   "source": [
    "m1 = np.arange(24).reshape(4,6)\n",
    "m2 = np.arange(24).reshape(6,-1)\n",
    "m1 @ m2"
   ]
  },
  {
   "cell_type": "code",
   "execution_count": 33,
   "id": "ac03d07a",
   "metadata": {},
   "outputs": [
    {
     "data": {
      "text/plain": [
       "array([[ 0,  2,  4,  6,  8, 10],\n",
       "       [12, 14, 16, 18, 20, 22],\n",
       "       [24, 26, 28, 30, 32, 34],\n",
       "       [36, 38, 40, 42, 44, 46]])"
      ]
     },
     "execution_count": 33,
     "metadata": {},
     "output_type": "execute_result"
    }
   ],
   "source": [
    "m3 = np.arange(24).reshape(4,6)\n",
    "m1 + m3"
   ]
  },
  {
   "cell_type": "code",
   "execution_count": 34,
   "id": "a78d2a90",
   "metadata": {},
   "outputs": [
    {
     "data": {
      "text/plain": [
       "array([ 6,  7,  8,  9, 10, 11, 12, 13, 14, 15, 16, 17, 18, 19, 20, 21, 22,\n",
       "       23])"
      ]
     },
     "execution_count": 34,
     "metadata": {},
     "output_type": "execute_result"
    }
   ],
   "source": [
    "m3[m3 > 5]"
   ]
  },
  {
   "cell_type": "code",
   "execution_count": 35,
   "id": "b8af3967",
   "metadata": {},
   "outputs": [
    {
     "data": {
      "text/plain": [
       "array([6, 7, 8, 9])"
      ]
     },
     "execution_count": 35,
     "metadata": {},
     "output_type": "execute_result"
    }
   ],
   "source": [
    "m3[(m3 > 5) & (m3 < 10)]"
   ]
  },
  {
   "cell_type": "code",
   "execution_count": 36,
   "id": "6131c9b0",
   "metadata": {},
   "outputs": [],
   "source": [
    "m3[(m3 > 5) & (m3 < 10)]=0"
   ]
  },
  {
   "cell_type": "code",
   "execution_count": 37,
   "id": "de300086",
   "metadata": {},
   "outputs": [
    {
     "data": {
      "text/plain": [
       "array([[ 0,  1,  2,  3,  4,  5],\n",
       "       [ 0,  0,  0,  0, 10, 11],\n",
       "       [12, 13, 14, 15, 16, 17],\n",
       "       [18, 19, 20, 21, 22, 23]])"
      ]
     },
     "execution_count": 37,
     "metadata": {},
     "output_type": "execute_result"
    }
   ],
   "source": [
    "m3"
   ]
  },
  {
   "cell_type": "code",
   "execution_count": 38,
   "id": "84e1fe7e",
   "metadata": {},
   "outputs": [
    {
     "data": {
      "text/plain": [
       "array([[ 0,  1,  2,  3,  4,  5],\n",
       "       [12, 13, 14, 15, 16, 17]])"
      ]
     },
     "execution_count": 38,
     "metadata": {},
     "output_type": "execute_result"
    }
   ],
   "source": [
    "m3[[0,2]]"
   ]
  },
  {
   "cell_type": "code",
   "execution_count": 39,
   "id": "f27b389f",
   "metadata": {},
   "outputs": [
    {
     "data": {
      "text/plain": [
       "array([0, 1, 2, 3, 4, 5])"
      ]
     },
     "execution_count": 39,
     "metadata": {},
     "output_type": "execute_result"
    }
   ],
   "source": [
    "m3[0]"
   ]
  },
  {
   "cell_type": "code",
   "execution_count": 40,
   "id": "6238f2e4",
   "metadata": {},
   "outputs": [
    {
     "data": {
      "text/plain": [
       "array([0, 1, 2, 3, 4, 5, 6, 7, 8, 9])"
      ]
     },
     "execution_count": 40,
     "metadata": {},
     "output_type": "execute_result"
    }
   ],
   "source": [
    "arr = np.arange(10)\n",
    "arr"
   ]
  },
  {
   "cell_type": "code",
   "execution_count": 41,
   "id": "88b4a90f",
   "metadata": {},
   "outputs": [
    {
     "data": {
      "text/plain": [
       "array([0, 1, 2])"
      ]
     },
     "execution_count": 41,
     "metadata": {},
     "output_type": "execute_result"
    }
   ],
   "source": [
    "arr[:3]"
   ]
  },
  {
   "cell_type": "code",
   "execution_count": 42,
   "id": "29b984ff",
   "metadata": {},
   "outputs": [
    {
     "data": {
      "text/plain": [
       "9"
      ]
     },
     "execution_count": 42,
     "metadata": {},
     "output_type": "execute_result"
    }
   ],
   "source": [
    "arr[-1]"
   ]
  },
  {
   "cell_type": "code",
   "execution_count": 43,
   "id": "4ced426a",
   "metadata": {},
   "outputs": [
    {
     "data": {
      "text/plain": [
       "array([[ 0,  1,  2,  3,  4],\n",
       "       [ 5,  6,  7,  8,  9],\n",
       "       [10, 11, 12, 13, 14],\n",
       "       [15, 16, 17, 18, 19],\n",
       "       [20, 21, 22, 23, 24]])"
      ]
     },
     "execution_count": 43,
     "metadata": {},
     "output_type": "execute_result"
    }
   ],
   "source": [
    "arr = np.arange(25).reshape(5,-1)\n",
    "arr"
   ]
  },
  {
   "cell_type": "code",
   "execution_count": 44,
   "id": "389202b4",
   "metadata": {},
   "outputs": [
    {
     "data": {
      "text/plain": [
       "array([[ 6,  7,  8],\n",
       "       [11, 12, 13],\n",
       "       [16, 17, 18]])"
      ]
     },
     "execution_count": 44,
     "metadata": {},
     "output_type": "execute_result"
    }
   ],
   "source": [
    "arr[1:-1,1:-1]"
   ]
  },
  {
   "cell_type": "code",
   "execution_count": 45,
   "id": "ab97659c",
   "metadata": {},
   "outputs": [
    {
     "data": {
      "text/plain": [
       "array([[ 0,  5, 10, 15, 20],\n",
       "       [ 1,  6, 11, 16, 21],\n",
       "       [ 2,  7, 12, 17, 22],\n",
       "       [ 3,  8, 13, 18, 23],\n",
       "       [ 4,  9, 14, 19, 24]])"
      ]
     },
     "execution_count": 45,
     "metadata": {},
     "output_type": "execute_result"
    }
   ],
   "source": [
    "arr.T"
   ]
  },
  {
   "cell_type": "code",
   "execution_count": 47,
   "id": "f50cf312",
   "metadata": {},
   "outputs": [
    {
     "data": {
      "text/plain": [
       "array([0.        , 1.        , 1.41421356, 1.73205081, 2.        ,\n",
       "       2.23606798, 2.44948974, 2.64575131, 2.82842712, 3.        ])"
      ]
     },
     "execution_count": 47,
     "metadata": {},
     "output_type": "execute_result"
    }
   ],
   "source": [
    "L = list(range(10))\n",
    "a = np.sqrt(L)\n",
    "b = np.sqrt(tuple(L))\n",
    "a"
   ]
  },
  {
   "cell_type": "code",
   "execution_count": 48,
   "id": "620ef7e6",
   "metadata": {},
   "outputs": [
    {
     "data": {
      "text/plain": [
       "array([0.        , 1.        , 1.41421356, 1.73205081, 2.        ,\n",
       "       2.23606798, 2.44948974, 2.64575131, 2.82842712, 3.        ])"
      ]
     },
     "execution_count": 48,
     "metadata": {},
     "output_type": "execute_result"
    }
   ],
   "source": [
    "b"
   ]
  },
  {
   "cell_type": "code",
   "execution_count": 49,
   "id": "bef15cbe",
   "metadata": {},
   "outputs": [
    {
     "data": {
      "text/plain": [
       "array([  8.67435333,  -3.06460263,   7.54512377, -10.90011712,\n",
       "        -3.05533726])"
      ]
     },
     "execution_count": 49,
     "metadata": {},
     "output_type": "execute_result"
    }
   ],
   "source": [
    "x = np.random.randn(5)\n",
    "x = x * 10\n",
    "x"
   ]
  },
  {
   "cell_type": "code",
   "execution_count": 50,
   "id": "2d79c6e1",
   "metadata": {},
   "outputs": [
    {
     "data": {
      "text/plain": [
       "array([-13.03366802, -10.24013625,   7.78359467,  -9.45913931,\n",
       "         6.4513658 ])"
      ]
     },
     "execution_count": 50,
     "metadata": {},
     "output_type": "execute_result"
    }
   ],
   "source": [
    "y = np.random.randn(5)\n",
    "y = y * 10\n",
    "y"
   ]
  },
  {
   "cell_type": "code",
   "execution_count": 51,
   "id": "1fac128e",
   "metadata": {},
   "outputs": [
    {
     "data": {
      "text/plain": [
       "array([ 8.67435333, -3.06460263,  7.78359467, -9.45913931,  6.4513658 ])"
      ]
     },
     "execution_count": 51,
     "metadata": {},
     "output_type": "execute_result"
    }
   ],
   "source": [
    "np.maximum(x,y)"
   ]
  },
  {
   "cell_type": "code",
   "execution_count": 52,
   "id": "bcff4d00",
   "metadata": {},
   "outputs": [
    {
     "data": {
      "text/plain": [
       "array([-13.03366802, -10.24013625,   7.54512377, -10.90011712,\n",
       "        -3.05533726])"
      ]
     },
     "execution_count": 52,
     "metadata": {},
     "output_type": "execute_result"
    }
   ],
   "source": [
    "np.minimum(x,y)"
   ]
  },
  {
   "cell_type": "code",
   "execution_count": 53,
   "id": "d193ac62",
   "metadata": {},
   "outputs": [
    {
     "name": "stdout",
     "output_type": "stream",
     "text": [
      "[  8.67435333  -3.06460263   7.54512377 -10.90011712  -3.05533726]\n",
      "[  9.  -3.   8. -10.  -3.]\n"
     ]
    }
   ],
   "source": [
    "print(x)\n",
    "x2 = np.ceil(x)\n",
    "print(x2)"
   ]
  },
  {
   "cell_type": "code",
   "execution_count": 54,
   "id": "b8fad631",
   "metadata": {},
   "outputs": [
    {
     "data": {
      "text/plain": [
       "array([  8.,  -4.,   7., -11.,  -4.])"
      ]
     },
     "execution_count": 54,
     "metadata": {},
     "output_type": "execute_result"
    }
   ],
   "source": [
    "np.floor(x)"
   ]
  },
  {
   "cell_type": "code",
   "execution_count": 58,
   "id": "fa5a1c75",
   "metadata": {},
   "outputs": [
    {
     "data": {
      "text/plain": [
       "array([  8.67435333,  -3.06460263,  -7.54512377, -10.90011712,\n",
       "        -3.05533726])"
      ]
     },
     "execution_count": 58,
     "metadata": {},
     "output_type": "execute_result"
    }
   ],
   "source": [
    "x2 = np.array(range(len(x)))\n",
    "x2 = x2 * -1\n",
    "np.copysign(x, x2)"
   ]
  },
  {
   "cell_type": "code",
   "execution_count": 59,
   "id": "2267df95",
   "metadata": {},
   "outputs": [
    {
     "data": {
      "text/plain": [
       "array([[ 0,  1,  2,  3,  4],\n",
       "       [ 5,  6,  7,  8,  9],\n",
       "       [10, 11, 12, 13, 14],\n",
       "       [15, 16, 17, 18, 19],\n",
       "       [20, 21, 22, 23, 24]])"
      ]
     },
     "execution_count": 59,
     "metadata": {},
     "output_type": "execute_result"
    }
   ],
   "source": [
    "m = np.arange(25).reshape(5,5)\n",
    "m"
   ]
  },
  {
   "cell_type": "code",
   "execution_count": 60,
   "id": "1b48fa46",
   "metadata": {},
   "outputs": [
    {
     "data": {
      "text/plain": [
       "array([50, 55, 60, 65, 70])"
      ]
     },
     "execution_count": 60,
     "metadata": {},
     "output_type": "execute_result"
    }
   ],
   "source": [
    "m.sum(axis=0)"
   ]
  },
  {
   "cell_type": "code",
   "execution_count": 61,
   "id": "c02c648d",
   "metadata": {},
   "outputs": [
    {
     "data": {
      "text/plain": [
       "300"
      ]
     },
     "execution_count": 61,
     "metadata": {},
     "output_type": "execute_result"
    }
   ],
   "source": [
    "m.sum()"
   ]
  },
  {
   "cell_type": "code",
   "execution_count": 62,
   "id": "2668bc63",
   "metadata": {},
   "outputs": [
    {
     "data": {
      "text/plain": [
       "array([ 10,  35,  60,  85, 110])"
      ]
     },
     "execution_count": 62,
     "metadata": {},
     "output_type": "execute_result"
    }
   ],
   "source": [
    "m.sum(axis=1)"
   ]
  },
  {
   "cell_type": "markdown",
   "id": "c87ea3bd",
   "metadata": {},
   "source": [
    "Generar una matriz aleatoria y contar cuantos elementos son > que un valor dado"
   ]
  },
  {
   "cell_type": "code",
   "execution_count": 63,
   "id": "877035c0",
   "metadata": {},
   "outputs": [
    {
     "data": {
      "text/plain": [
       "array([[ 1, 21, 46, 38, 40, 22],\n",
       "       [31, 37, 38, 45, 47, 43],\n",
       "       [17, 10, 34, 19, 35, 18],\n",
       "       [49, 43, 37, 32, 33,  4]])"
      ]
     },
     "execution_count": 63,
     "metadata": {},
     "output_type": "execute_result"
    }
   ],
   "source": [
    "m = np.random.randint(0,50, (4,6))\n",
    "m"
   ]
  },
  {
   "cell_type": "code",
   "execution_count": 66,
   "id": "82dfb7a5",
   "metadata": {},
   "outputs": [
    {
     "data": {
      "text/plain": [
       "3"
      ]
     },
     "execution_count": 66,
     "metadata": {},
     "output_type": "execute_result"
    }
   ],
   "source": [
    "np.sum((m > 45))"
   ]
  },
  {
   "cell_type": "code",
   "execution_count": 69,
   "id": "c8fbe283",
   "metadata": {},
   "outputs": [
    {
     "data": {
      "text/plain": [
       "array([ -2.59300498,   3.72671352, -15.92651732,   7.64864137,\n",
       "         4.61593354, -14.02375163,   3.35617729,   4.32256448,\n",
       "         2.12772485,   3.89586287, -22.63819725, -23.98814398,\n",
       "         0.99064237,   0.46317535,  10.90868456,  12.17524669,\n",
       "         3.85151758,  -9.62651239,  22.46858093,  -0.28485142])"
      ]
     },
     "execution_count": 69,
     "metadata": {},
     "output_type": "execute_result"
    }
   ],
   "source": [
    "a = np.random.randn(20)\n",
    "a = a * 10\n",
    "a"
   ]
  },
  {
   "cell_type": "code",
   "execution_count": 70,
   "id": "9f293e55",
   "metadata": {},
   "outputs": [
    {
     "data": {
      "text/plain": [
       "array([ -3.87733353,   3.43695587, -15.40810959,   8.73342619,\n",
       "         3.76260038, -13.5799488 ,   2.12966338,   5.33481161,\n",
       "         2.26105567,   5.30428813, -21.74768922, -24.07674042,\n",
       "        -1.50166101,  -1.32295313,  11.96214873,  12.23034388,\n",
       "         2.22189384,  -9.11225209,  22.10366767,  -1.90370204])"
      ]
     },
     "execution_count": 70,
     "metadata": {},
     "output_type": "execute_result"
    }
   ],
   "source": [
    "b = a + np.random.randn(20)\n",
    "b"
   ]
  },
  {
   "cell_type": "code",
   "execution_count": 71,
   "id": "60ff8b82",
   "metadata": {},
   "outputs": [
    {
     "data": {
      "text/plain": [
       "array([[1.        , 0.99519776],\n",
       "       [0.99519776, 1.        ]])"
      ]
     },
     "execution_count": 71,
     "metadata": {},
     "output_type": "execute_result"
    }
   ],
   "source": [
    "m = np.corrcoef(a,b)\n",
    "m"
   ]
  },
  {
   "cell_type": "code",
   "execution_count": 72,
   "id": "3299d2e5",
   "metadata": {},
   "outputs": [
    {
     "data": {
      "text/plain": [
       "99.52"
      ]
     },
     "execution_count": 72,
     "metadata": {},
     "output_type": "execute_result"
    }
   ],
   "source": [
    "por = round(m[0,1] * 100, 2)\n",
    "por"
   ]
  },
  {
   "cell_type": "markdown",
   "id": "79827786",
   "metadata": {},
   "source": [
    "Obtener el min, max y las posiciones que ocupan en el array: a"
   ]
  },
  {
   "cell_type": "code",
   "execution_count": 74,
   "id": "46ab389d",
   "metadata": {},
   "outputs": [
    {
     "data": {
      "text/plain": [
       "(-23.98814397843932, 11, 22.46858092753677, 18)"
      ]
     },
     "execution_count": 74,
     "metadata": {},
     "output_type": "execute_result"
    }
   ],
   "source": [
    "minimo = np.min(a)\n",
    "maximo = np.max(a)\n",
    "pos_min = np.argmin(a)\n",
    "pos_max = np.argmax(a)\n",
    "minimo, pos_min, maximo, pos_max"
   ]
  },
  {
   "cell_type": "code",
   "execution_count": 99,
   "id": "a43943dd",
   "metadata": {},
   "outputs": [
    {
     "data": {
      "text/plain": [
       "array([[ -2.59300498,   3.72671352, -15.92651732,   7.64864137,\n",
       "          4.61593354],\n",
       "       [-14.02375163,   3.35617729,   4.32256448,   2.12772485,\n",
       "          3.89586287],\n",
       "       [-22.63819725, -23.98814398,   0.99064237,   0.46317535,\n",
       "         10.90868456],\n",
       "       [ 12.17524669,   3.85151758,  -9.62651239,  22.46858093,\n",
       "         -0.28485142]])"
      ]
     },
     "execution_count": 99,
     "metadata": {},
     "output_type": "execute_result"
    }
   ],
   "source": [
    "a2 = a.reshape(4,5)\n",
    "a2\n"
   ]
  },
  {
   "cell_type": "code",
   "execution_count": 83,
   "id": "81867e38",
   "metadata": {},
   "outputs": [
    {
     "data": {
      "text/plain": [
       "numpy.int64"
      ]
     },
     "execution_count": 83,
     "metadata": {},
     "output_type": "execute_result"
    }
   ],
   "source": [
    "pos = np.argmin(a2)\n",
    "type(pos)"
   ]
  },
  {
   "cell_type": "code",
   "execution_count": 89,
   "id": "2cf30442",
   "metadata": {},
   "outputs": [
    {
     "data": {
      "text/plain": [
       "-23.98814397843932"
      ]
     },
     "execution_count": 89,
     "metadata": {},
     "output_type": "execute_result"
    }
   ],
   "source": [
    "#pos = int(pos)\n",
    "nf, nc = a2.shape\n",
    "fila = pos // nf\n",
    "col = pos % nc\n",
    "a2[fila, col]"
   ]
  },
  {
   "cell_type": "code",
   "execution_count": 90,
   "id": "2a393a04",
   "metadata": {},
   "outputs": [
    {
     "data": {
      "text/plain": [
       "-23.98814397843932"
      ]
     },
     "execution_count": 90,
     "metadata": {},
     "output_type": "execute_result"
    }
   ],
   "source": [
    "np.min(a2)"
   ]
  },
  {
   "cell_type": "markdown",
   "id": "e73c45f7",
   "metadata": {},
   "source": [
    "Exportar la matriz a2 a un formato CSV"
   ]
  },
  {
   "cell_type": "code",
   "execution_count": 96,
   "id": "8107a250",
   "metadata": {},
   "outputs": [],
   "source": [
    "np.savetxt('matriz_np.csv', a2, fmt=\"%.2f\", delimiter=';')"
   ]
  },
  {
   "cell_type": "code",
   "execution_count": 104,
   "id": "75209128",
   "metadata": {},
   "outputs": [
    {
     "data": {
      "text/plain": [
       "array([ -2.59300498,   3.72671352, -15.92651732,   7.64864137,\n",
       "         4.61593354, -14.02375163,   3.35617729,   4.32256448,\n",
       "         2.12772485,   3.89586287, -22.63819725, -23.98814398,\n",
       "         0.99064237,   0.46317535,  10.90868456,  12.17524669,\n",
       "         3.85151758,  -9.62651239,  22.46858093,  -0.28485142])"
      ]
     },
     "execution_count": 104,
     "metadata": {},
     "output_type": "execute_result"
    }
   ],
   "source": [
    "a2=a2.ravel()\n",
    "a2"
   ]
  },
  {
   "cell_type": "code",
   "execution_count": 105,
   "id": "91b5e9fd",
   "metadata": {},
   "outputs": [
    {
     "data": {
      "text/plain": [
       "(20,)"
      ]
     },
     "execution_count": 105,
     "metadata": {},
     "output_type": "execute_result"
    }
   ],
   "source": [
    "a2.shape"
   ]
  },
  {
   "cell_type": "code",
   "execution_count": null,
   "id": "b732d169",
   "metadata": {},
   "outputs": [],
   "source": []
  }
 ],
 "metadata": {
  "kernelspec": {
   "display_name": "Python 3 (ipykernel)",
   "language": "python",
   "name": "python3"
  },
  "language_info": {
   "codemirror_mode": {
    "name": "ipython",
    "version": 3
   },
   "file_extension": ".py",
   "mimetype": "text/x-python",
   "name": "python",
   "nbconvert_exporter": "python",
   "pygments_lexer": "ipython3",
   "version": "3.8.5"
  }
 },
 "nbformat": 4,
 "nbformat_minor": 5
}
